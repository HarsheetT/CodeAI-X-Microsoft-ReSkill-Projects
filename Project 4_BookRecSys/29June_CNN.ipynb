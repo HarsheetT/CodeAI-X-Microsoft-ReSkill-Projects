{
  "cells": [
    {
      "cell_type": "code",
      "execution_count": 1,
      "metadata": {
        "id": "Y0zm6tRgU2zF"
      },
      "outputs": [
        {
          "ename": "ModuleNotFoundError",
          "evalue": "No module named 'tensorflow'",
          "output_type": "error",
          "traceback": [
            "\u001b[1;31m---------------------------------------------------------------------------\u001b[0m",
            "\u001b[1;31mModuleNotFoundError\u001b[0m                       Traceback (most recent call last)",
            "Cell \u001b[1;32mIn[1], line 6\u001b[0m\n\u001b[0;32m      3\u001b[0m \u001b[38;5;28;01mimport\u001b[39;00m \u001b[38;5;21;01mnumpy\u001b[39;00m \u001b[38;5;28;01mas\u001b[39;00m \u001b[38;5;21;01mnp\u001b[39;00m\n\u001b[0;32m      4\u001b[0m \u001b[38;5;28;01mimport\u001b[39;00m \u001b[38;5;21;01mmatplotlib\u001b[39;00m\u001b[38;5;21;01m.\u001b[39;00m\u001b[38;5;21;01mpyplot\u001b[39;00m \u001b[38;5;28;01mas\u001b[39;00m \u001b[38;5;21;01mplt\u001b[39;00m\n\u001b[1;32m----> 6\u001b[0m \u001b[38;5;28;01mimport\u001b[39;00m \u001b[38;5;21;01mtensorflow\u001b[39;00m \u001b[38;5;28;01mas\u001b[39;00m \u001b[38;5;21;01mtf\u001b[39;00m\n\u001b[0;32m      7\u001b[0m \u001b[38;5;28;01mfrom\u001b[39;00m \u001b[38;5;21;01mtensorflow\u001b[39;00m\u001b[38;5;21;01m.\u001b[39;00m\u001b[38;5;21;01mkeras\u001b[39;00m \u001b[38;5;28;01mimport\u001b[39;00m Sequential\n\u001b[0;32m      8\u001b[0m \u001b[38;5;28;01mfrom\u001b[39;00m \u001b[38;5;21;01mtensorflow\u001b[39;00m\u001b[38;5;21;01m.\u001b[39;00m\u001b[38;5;21;01mkeras\u001b[39;00m\u001b[38;5;21;01m.\u001b[39;00m\u001b[38;5;21;01mlayers\u001b[39;00m \u001b[38;5;28;01mimport\u001b[39;00m Dense, Conv2D, MaxPooling2D, Dropout, Flatten\n",
            "\u001b[1;31mModuleNotFoundError\u001b[0m: No module named 'tensorflow'"
          ]
        }
      ],
      "source": [
        "import os\n",
        "import random\n",
        "import numpy as np\n",
        "import matplotlib.pyplot as plt\n",
        "\n",
        "import tensorflow as tf\n",
        "from tensorflow.keras import Sequential\n",
        "from tensorflow.keras.layers import Dense, Conv2D, MaxPooling2D, Dropout, Flatten\n",
        "\n",
        "from tensorflow.keras.datasets import cifar10\n",
        "from tensorflow.keras.utils import to_categorical\n",
        "from matplotlib.ticker import (MultipleLocator, FormatStrFormatter)\n",
        "from dataclasses import dataclass"
      ]
    },
    {
      "cell_type": "code",
      "execution_count": null,
      "metadata": {
        "id": "-IF4x4gYU8wP"
      },
      "outputs": [],
      "source": [
        "SEED_VALUE = 42\n",
        "\n",
        "# Fix seed to make training deterministic.\n",
        "random.seed(SEED_VALUE)\n",
        "np.random.seed(SEED_VALUE)\n",
        "tf.random.set_seed(SEED_VALUE)"
      ]
    },
    {
      "cell_type": "code",
      "execution_count": null,
      "metadata": {
        "colab": {
          "base_uri": "https://localhost:8080/"
        },
        "id": "aFJtAg94VBKh",
        "outputId": "56b7d2bb-870d-4aee-c87a-d7218d456fb9"
      },
      "outputs": [],
      "source": [
        "(X_train, y_train), (X_test, y_test) = cifar10.load_data()\n",
        "\n",
        "print(X_train.shape)\n",
        "print(X_test.shape)"
      ]
    },
    {
      "cell_type": "code",
      "execution_count": null,
      "metadata": {
        "colab": {
          "base_uri": "https://localhost:8080/",
          "height": 727
        },
        "id": "Ulz66qwSVGcm",
        "outputId": "fd770d79-b8b2-4af4-e2b6-5e0994bc1504"
      },
      "outputs": [],
      "source": [
        "plt.figure(figsize=(18, 9))\n",
        "\n",
        "num_rows = 4\n",
        "num_cols = 8\n",
        "\n",
        "# plot each of the images in the batch and the associated ground truth labels.\n",
        "for i in range(num_rows*num_cols):\n",
        "    ax = plt.subplot(num_rows, num_cols, i + 1)\n",
        "    plt.imshow(X_train[i,:,:])\n",
        "    plt.axis(\"off\")"
      ]
    },
    {
      "cell_type": "code",
      "execution_count": null,
      "metadata": {
        "colab": {
          "base_uri": "https://localhost:8080/"
        },
        "id": "dDvu78xxVL08",
        "outputId": "bd35b100-5cfc-4aea-eca3-6226dd4a2e37"
      },
      "outputs": [],
      "source": [
        "# Normalize images to the range [0, 1].\n",
        "X_train = X_train.astype(\"float32\") / 255\n",
        "X_test  = X_test.astype(\"float32\") / 255\n",
        "\n",
        "# Change the labels from integer to categorical data.\n",
        "print('Original (integer) label for the first training sample: ', y_train[0])\n",
        "\n",
        "# Convert labels to one-hot encoding.\n",
        "y_train = to_categorical(y_train)\n",
        "y_test  = to_categorical(y_test)\n",
        "\n",
        "print('After conversion to categorical one-hot encoded labels: ', y_train[0])"
      ]
    },
    {
      "cell_type": "code",
      "execution_count": null,
      "metadata": {
        "id": "pZ-5Wp8AVQkT"
      },
      "outputs": [],
      "source": [
        "@dataclass(frozen=True)\n",
        "class DatasetConfig:\n",
        "    NUM_CLASSES:  int = 10\n",
        "    IMG_HEIGHT:   int = 32\n",
        "    IMG_WIDTH:    int = 32\n",
        "    NUM_CHANNELS: int = 3\n",
        "\n",
        "@dataclass(frozen=True)\n",
        "class TrainingConfig:\n",
        "    EPOCHS:        int = 31\n",
        "    BATCH_SIZE:    int = 256\n",
        "    LEARNING_RATE: float = 0.001"
      ]
    },
    {
      "cell_type": "code",
      "execution_count": null,
      "metadata": {
        "id": "mZnl9_YRVV-H"
      },
      "outputs": [],
      "source": [
        "def cnn_model(input_shape=(32, 32, 3)):\n",
        "\n",
        "    model = Sequential()\n",
        "\n",
        "    #------------------------------------\n",
        "    # Conv Block 1: 32 Filters, MaxPool.\n",
        "    #------------------------------------\n",
        "    model.add(Conv2D(filters=32, kernel_size=3, padding='same', activation='relu', input_shape=input_shape))\n",
        "    model.add(Conv2D(filters=32, kernel_size=3, padding='same', activation='relu'))\n",
        "    model.add(MaxPooling2D(pool_size=(2, 2)))\n",
        "\n",
        "    #------------------------------------\n",
        "    # Conv Block 2: 64 Filters, MaxPool.\n",
        "    #------------------------------------\n",
        "    model.add(Conv2D(filters=64, kernel_size=3, padding='same', activation='relu'))\n",
        "    model.add(Conv2D(filters=64, kernel_size=3, padding='same', activation='relu'))\n",
        "    model.add(MaxPooling2D(pool_size=(2, 2)))\n",
        "\n",
        "    #------------------------------------\n",
        "    # Conv Block 3: 64 Filters, MaxPool.\n",
        "    #------------------------------------\n",
        "    model.add(Conv2D(filters=64, kernel_size=3, padding='same', activation='relu'))\n",
        "    model.add(Conv2D(filters=64, kernel_size=3, padding='same', activation='relu'))\n",
        "    model.add(MaxPooling2D(pool_size=(2, 2)))\n",
        "\n",
        "    #------------------------------------\n",
        "    # Flatten the convolutional features.\n",
        "    #------------------------------------\n",
        "    model.add(Flatten())\n",
        "    model.add(Dense(512, activation='relu'))\n",
        "    model.add(Dense(10, activation='softmax'))\n",
        "\n",
        "    return model"
      ]
    },
    {
      "cell_type": "code",
      "execution_count": null,
      "metadata": {
        "colab": {
          "base_uri": "https://localhost:8080/"
        },
        "id": "nx9277zQVaZn",
        "outputId": "bdf26ce0-0191-4f6c-9e89-6552628bcd26"
      },
      "outputs": [],
      "source": [
        "# Create the model.\n",
        "model = cnn_model()\n",
        "model.summary()"
      ]
    },
    {
      "cell_type": "code",
      "execution_count": null,
      "metadata": {
        "id": "1-PYBeeJVfZI"
      },
      "outputs": [],
      "source": [
        "model.compile(optimizer='rmsprop',\n",
        "              loss='categorical_crossentropy',\n",
        "              metrics=['accuracy'],\n",
        "             )"
      ]
    },
    {
      "cell_type": "code",
      "execution_count": null,
      "metadata": {
        "colab": {
          "base_uri": "https://localhost:8080/"
        },
        "id": "kkFlsRYLVh4A",
        "outputId": "799740d8-e46b-46dc-e275-5ff86918a2b4"
      },
      "outputs": [],
      "source": [
        "history = model.fit(X_train,\n",
        "                    y_train,\n",
        "                    batch_size=TrainingConfig.BATCH_SIZE,\n",
        "                    epochs=TrainingConfig.EPOCHS,\n",
        "                    verbose=1,\n",
        "                    validation_split=.3,\n",
        "                   )"
      ]
    },
    {
      "cell_type": "code",
      "execution_count": null,
      "metadata": {
        "id": "WOAJvRroVnIv"
      },
      "outputs": [],
      "source": [
        "def plot_results(metrics, title=None, ylabel=None, ylim=None, metric_name=None, color=None):\n",
        "\n",
        "    fig, ax = plt.subplots(figsize=(15, 4))\n",
        "\n",
        "    if not (isinstance(metric_name, list) or isinstance(metric_name, tuple)):\n",
        "        metrics = [metrics,]\n",
        "        metric_name = [metric_name,]\n",
        "\n",
        "    for idx, metric in enumerate(metrics):\n",
        "        ax.plot(metric, color=color[idx])\n",
        "\n",
        "    plt.xlabel(\"Epoch\")\n",
        "    plt.ylabel(ylabel)\n",
        "    plt.title(title)\n",
        "    plt.xlim([0, TrainingConfig.EPOCHS-1])\n",
        "    plt.ylim(ylim)\n",
        "    # Tailor x-axis tick marks\n",
        "    ax.xaxis.set_major_locator(MultipleLocator(5))\n",
        "    ax.xaxis.set_major_formatter(FormatStrFormatter('%d'))\n",
        "    ax.xaxis.set_minor_locator(MultipleLocator(1))\n",
        "    plt.grid(True)\n",
        "    plt.legend(metric_name)\n",
        "    plt.show()\n",
        "    plt.close()"
      ]
    },
    {
      "cell_type": "code",
      "execution_count": null,
      "metadata": {
        "colab": {
          "base_uri": "https://localhost:8080/",
          "height": 769
        },
        "id": "dRjtFP4QVqjR",
        "outputId": "3b6ce6f9-8fa2-419d-e385-5fe80d99f28c"
      },
      "outputs": [],
      "source": [
        "# Retrieve training results.\n",
        "train_loss = history.history[\"loss\"]\n",
        "train_acc  = history.history[\"accuracy\"]\n",
        "valid_loss = history.history[\"val_loss\"]\n",
        "valid_acc  = history.history[\"val_accuracy\"]\n",
        "\n",
        "plot_results([ train_loss, valid_loss ],\n",
        "            ylabel=\"Loss\",\n",
        "            ylim = [0.0, 5.0],\n",
        "            metric_name=[\"Training Loss\", \"Validation Loss\"],\n",
        "            color=[\"g\", \"b\"]);\n",
        "\n",
        "plot_results([ train_acc, valid_acc ],\n",
        "            ylabel=\"Accuracy\",\n",
        "            ylim = [0.0, 1.0],\n",
        "            metric_name=[\"Training Accuracy\", \"Validation Accuracy\"],\n",
        "            color=[\"g\", \"b\"])"
      ]
    },
    {
      "cell_type": "code",
      "execution_count": null,
      "metadata": {
        "id": "N9USbcwmVu_s"
      },
      "outputs": [],
      "source": [
        "def cnn_model_dropout(input_shape=(32, 32, 3)):\n",
        "\n",
        "    model = Sequential()\n",
        "\n",
        "    #------------------------------------\n",
        "    # Conv Block 1: 32 Filters, MaxPool.\n",
        "    #------------------------------------\n",
        "    model.add(Conv2D(filters=32, kernel_size=3, padding='same', activation='relu', input_shape=input_shape))\n",
        "    model.add(Conv2D(filters=32, kernel_size=3, padding='same', activation='relu'))\n",
        "    model.add(MaxPooling2D(pool_size=(2, 2)))\n",
        "    model.add(Dropout(0.25))\n",
        "\n",
        "    #------------------------------------\n",
        "    # Conv Block 2: 64 Filters, MaxPool.\n",
        "    #------------------------------------\n",
        "    model.add(Conv2D(filters=64, kernel_size=3, padding='same', activation='relu'))\n",
        "    model.add(Conv2D(filters=64, kernel_size=3, padding='same', activation='relu'))\n",
        "    model.add(MaxPooling2D(pool_size=(2, 2)))\n",
        "    model.add(Dropout(0.25))\n",
        "\n",
        "    #------------------------------------\n",
        "    # Conv Block 3: 64 Filters, MaxPool.\n",
        "    #------------------------------------\n",
        "    model.add(Conv2D(filters=64, kernel_size=3, padding='same', activation='relu'))\n",
        "    model.add(Conv2D(filters=64, kernel_size=3, padding='same', activation='relu'))\n",
        "    model.add(MaxPooling2D(pool_size=(2, 2)))\n",
        "    model.add(Dropout(0.25))\n",
        "\n",
        "    #------------------------------------\n",
        "    # Flatten the convolutional features.\n",
        "    #------------------------------------\n",
        "    model.add(Flatten())\n",
        "    model.add(Dense(512, activation='relu'))\n",
        "    model.add(Dropout(0.5))\n",
        "    model.add(Dense(10, activation='softmax'))\n",
        "\n",
        "    return model"
      ]
    },
    {
      "cell_type": "code",
      "execution_count": null,
      "metadata": {
        "colab": {
          "base_uri": "https://localhost:8080/"
        },
        "id": "nsw_-uX2V0RZ",
        "outputId": "8c315cc6-fe94-4e11-a0ed-29b822a7ed4c"
      },
      "outputs": [],
      "source": [
        "# Create the model.\n",
        "model_dropout = cnn_model_dropout()\n",
        "model_dropout.summary()"
      ]
    },
    {
      "cell_type": "code",
      "execution_count": null,
      "metadata": {
        "id": "sgx9e9N8V3Lo"
      },
      "outputs": [],
      "source": [
        "model_dropout.compile(optimizer='rmsprop',\n",
        "                      loss='categorical_crossentropy',\n",
        "                      metrics=['accuracy'],\n",
        "                     )"
      ]
    },
    {
      "cell_type": "code",
      "execution_count": null,
      "metadata": {
        "colab": {
          "base_uri": "https://localhost:8080/"
        },
        "id": "J0DCLCozV6Rh",
        "outputId": "8614340a-012e-4d61-b15f-c514122ff94e"
      },
      "outputs": [],
      "source": [
        "history = model_dropout.fit(X_train,\n",
        "                            y_train,\n",
        "                            batch_size=TrainingConfig.BATCH_SIZE,\n",
        "                            epochs=TrainingConfig.EPOCHS,\n",
        "                            verbose=1,\n",
        "                            validation_split=.3,\n",
        "                           )"
      ]
    },
    {
      "cell_type": "code",
      "execution_count": null,
      "metadata": {
        "colab": {
          "base_uri": "https://localhost:8080/",
          "height": 769
        },
        "id": "yNh9bGvBV9lw",
        "outputId": "c121cecb-8bb1-46cf-c40b-95296b98c80d"
      },
      "outputs": [],
      "source": [
        "# Retrieve training results.\n",
        "train_loss = history.history[\"loss\"]\n",
        "train_acc  = history.history[\"accuracy\"]\n",
        "valid_loss = history.history[\"val_loss\"]\n",
        "valid_acc  = history.history[\"val_accuracy\"]\n",
        "\n",
        "plot_results([ train_loss, valid_loss ],\n",
        "            ylabel=\"Loss\",\n",
        "            ylim = [0.0, 5.0],\n",
        "            metric_name=[\"Training Loss\", \"Validation Loss\"],\n",
        "            color=[\"g\", \"b\"]);\n",
        "\n",
        "plot_results([ train_acc, valid_acc ],\n",
        "            ylabel=\"Accuracy\",\n",
        "            ylim = [0.0, 1.0],\n",
        "            metric_name=[\"Training Accuracy\", \"Validation Accuracy\"],\n",
        "            color=[\"g\", \"b\"])"
      ]
    },
    {
      "cell_type": "code",
      "execution_count": null,
      "metadata": {
        "id": "massHVOzWA-U"
      },
      "outputs": [],
      "source": [
        "# Using the save() method, the model will be saved to the file system in the 'SavedModel' format.\n",
        "model_dropout.save('model_dropout')"
      ]
    },
    {
      "cell_type": "code",
      "execution_count": null,
      "metadata": {
        "id": "p17OmbueWF6p"
      },
      "outputs": [],
      "source": [
        "from tensorflow.keras import models\n",
        "reloaded_model_dropout = models.load_model('model_dropout')"
      ]
    },
    {
      "cell_type": "code",
      "execution_count": null,
      "metadata": {
        "colab": {
          "base_uri": "https://localhost:8080/"
        },
        "id": "N50tLYAuWIWb",
        "outputId": "d1359ce4-5e70-4c61-fccf-9cff126f2903"
      },
      "outputs": [],
      "source": [
        "test_loss, test_acc = reloaded_model_dropout.evaluate(X_test, y_test)\n",
        "print(f\"Test accuracy: {test_acc*100:.3f}\")"
      ]
    },
    {
      "cell_type": "code",
      "execution_count": null,
      "metadata": {
        "id": "207LhzdzWMW1"
      },
      "outputs": [],
      "source": [
        "def evaluate_model(dataset, model):\n",
        "\n",
        "    class_names = ['airplane',\n",
        "                   'automobile',\n",
        "                   'bird',\n",
        "                   'cat',\n",
        "                   'deer',\n",
        "                   'dog',\n",
        "                   'frog',\n",
        "                   'horse',\n",
        "                   'ship',\n",
        "                   'truck' ]\n",
        "    num_rows = 3\n",
        "    num_cols = 6\n",
        "\n",
        "    # Retrieve a number of images from the dataset.\n",
        "    data_batch = dataset[0:num_rows*num_cols]\n",
        "\n",
        "    # Get predictions from model.\n",
        "    predictions = model.predict(data_batch)\n",
        "\n",
        "    plt.figure(figsize=(20, 8))\n",
        "    num_matches = 0\n",
        "\n",
        "    for idx in range(num_rows*num_cols):\n",
        "        ax = plt.subplot(num_rows, num_cols, idx + 1)\n",
        "        plt.axis(\"off\")\n",
        "        plt.imshow(data_batch[idx])\n",
        "\n",
        "        pred_idx = tf.argmax(predictions[idx]).numpy()\n",
        "        truth_idx = np.nonzero(y_test[idx])\n",
        "\n",
        "        title = str(class_names[truth_idx[0][0]]) + \" : \" + str(class_names[pred_idx])\n",
        "        title_obj = plt.title(title, fontdict={'fontsize':13})\n",
        "\n",
        "        if pred_idx == truth_idx:\n",
        "            num_matches += 1\n",
        "            plt.setp(title_obj, color='g')\n",
        "        else:\n",
        "            plt.setp(title_obj, color='r')\n",
        "\n",
        "        acc = num_matches/(idx+1)\n",
        "    print(\"Prediction accuracy: \", int(100*acc)/100)\n",
        "\n",
        "    return"
      ]
    },
    {
      "cell_type": "code",
      "execution_count": null,
      "metadata": {
        "colab": {
          "base_uri": "https://localhost:8080/",
          "height": 710
        },
        "id": "zSLsX4yXWPGn",
        "outputId": "c225ff18-3b99-4820-9421-7a8e439a805f"
      },
      "outputs": [],
      "source": [
        "evaluate_model(X_test, reloaded_model_dropout)"
      ]
    },
    {
      "cell_type": "code",
      "execution_count": null,
      "metadata": {
        "colab": {
          "base_uri": "https://localhost:8080/"
        },
        "id": "MO8YeQA5WTEH",
        "outputId": "ddeb4821-c306-434b-f12f-5ba5eed729ae"
      },
      "outputs": [],
      "source": [
        "# Generate predictions for the test dataset.\n",
        "predictions = reloaded_model_dropout.predict(X_test)\n",
        "\n",
        "# For each sample image in the test dataset, select the class label with the highest probability.\n",
        "predicted_labels = [np.argmax(i) for i in predictions]"
      ]
    },
    {
      "cell_type": "code",
      "execution_count": null,
      "metadata": {
        "colab": {
          "base_uri": "https://localhost:8080/",
          "height": 641
        },
        "id": "s8LsysyDWVYH",
        "outputId": "1d513196-f7e2-4f78-b031-de086a321601"
      },
      "outputs": [],
      "source": [
        "# Convert one-hot encoded labels to integers.\n",
        "y_test_integer_labels = tf.argmax(y_test, axis=1)\n",
        "\n",
        "# Generate a confusion matrix for the test dataset.\n",
        "cm = tf.math.confusion_matrix(labels=y_test_integer_labels, predictions=predicted_labels)\n",
        "\n",
        "# Plot the confusion matrix as a heatmap.\n",
        "plt.figure(figsize=[14, 7])\n",
        "import seaborn as sn\n",
        "sn.heatmap(cm, annot=True, fmt='d', annot_kws={\"size\": 12})\n",
        "plt.title('Confusion Matrix')\n",
        "plt.xlabel('Predicted')\n",
        "plt.ylabel('Truth')\n",
        "plt.show()"
      ]
    }
  ],
  "metadata": {
    "accelerator": "GPU",
    "colab": {
      "gpuType": "T4",
      "provenance": []
    },
    "kernelspec": {
      "display_name": "Python 3",
      "name": "python3"
    },
    "language_info": {
      "codemirror_mode": {
        "name": "ipython",
        "version": 3
      },
      "file_extension": ".py",
      "mimetype": "text/x-python",
      "name": "python",
      "nbconvert_exporter": "python",
      "pygments_lexer": "ipython3",
      "version": "3.12.3"
    }
  },
  "nbformat": 4,
  "nbformat_minor": 0
}
